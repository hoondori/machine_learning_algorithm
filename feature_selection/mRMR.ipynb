{
 "cells": [
  {
   "cell_type": "markdown",
   "metadata": {},
   "source": [
    "# Feature selectiojn\n",
    "\n",
    "sklearn.linear_model.LogisticRegression  fit 한 후에 coef 로 내림차순 정렬 \n",
    "lightgbm import LGBMClassifier로 fit 한 후에 feature_importances_ 로 내림차순 정렬 \n",
    "boruta에서서 ranking 내림차순 정렬해서 사용\n",
    "pymrmr.mRMR(df, 'MIQ', 10)    https://github.com/fbrundu/pymrmr\n",
    "                               http://home.penglab.com/proj/mRMR/\n",
    "                               \n",
    "https://github.com/smazzanti/mrmr/blob/main/mrmr/main.py     f-stat/rf   pearson, user_defined       "
   ]
  },
  {
   "cell_type": "markdown",
   "metadata": {},
   "source": [
    "# Data loading\n",
    "\n",
    "* first top 5 is important"
   ]
  },
  {
   "cell_type": "code",
   "execution_count": 1,
   "metadata": {},
   "outputs": [],
   "source": [
    "import pandas as pd\n",
    "from sklearn.ensemble import RandomForestClassifier\n",
    "from boruta import BorutaPy\n",
    "\n",
    "# load X and y\n",
    "# NOTE BorutaPy accepts numpy arrays only, hence the .values attribute\n",
    "X_df = pd.read_csv('test_X.csv', index_col=0)\n",
    "X = X_df.values\n",
    "y = pd.read_csv('test_y.csv', header=None, index_col=0).values\n",
    "y = y.ravel()"
   ]
  },
  {
   "cell_type": "code",
   "execution_count": 6,
   "metadata": {},
   "outputs": [],
   "source": [
    "import numpy as np\n",
    "\n",
    "ranking = pd.DataFrame(index = range(X.shape[1]))"
   ]
  },
  {
   "cell_type": "markdown",
   "metadata": {},
   "source": [
    "# by relevant only \n",
    "\n",
    "* sklearn.feature_selection.f_classif(X, y)  by f-stat\n",
    "* sklearn.feature_selection.mutual_info_classif  by MI\n"
   ]
  },
  {
   "cell_type": "code",
   "execution_count": 8,
   "metadata": {},
   "outputs": [],
   "source": [
    "from sklearn.feature_selection import f_classif\n",
    "\n",
    "f = f_classif(X, y)[0]   # f-statistics"
   ]
  },
  {
   "cell_type": "code",
   "execution_count": 9,
   "metadata": {},
   "outputs": [
    {
     "data": {
      "text/plain": [
       "0     1.0\n",
       "1     3.0\n",
       "2     4.0\n",
       "3     5.0\n",
       "4     2.0\n",
       "5     8.0\n",
       "6     6.0\n",
       "7    10.0\n",
       "8     9.0\n",
       "9     7.0\n",
       "dtype: float64"
      ]
     },
     "execution_count": 9,
     "metadata": {},
     "output_type": "execute_result"
    }
   ],
   "source": [
    "pd.Series(f, index = ranking.index).fillna(0).rank(ascending = False)"
   ]
  },
  {
   "cell_type": "code",
   "execution_count": 12,
   "metadata": {},
   "outputs": [],
   "source": [
    "from sklearn.feature_selection import mutual_info_classif\n",
    "\n",
    "mi = mutual_info_classif(X, y)"
   ]
  },
  {
   "cell_type": "code",
   "execution_count": 13,
   "metadata": {},
   "outputs": [
    {
     "data": {
      "text/plain": [
       "0    3.0\n",
       "1    1.0\n",
       "2    4.0\n",
       "3    5.0\n",
       "4    2.0\n",
       "5    9.0\n",
       "6    7.0\n",
       "7    6.0\n",
       "8    9.0\n",
       "9    9.0\n",
       "dtype: float64"
      ]
     },
     "execution_count": 13,
     "metadata": {},
     "output_type": "execute_result"
    }
   ],
   "source": [
    "pd.Series(mi, index = ranking.index).fillna(0).rank(ascending = False)"
   ]
  },
  {
   "cell_type": "code",
   "execution_count": 18,
   "metadata": {},
   "outputs": [],
   "source": [
    "from lightgbm import LGBMClassifier\n",
    "\n",
    "lgbm = LGBMClassifier().fit(X, y)"
   ]
  },
  {
   "cell_type": "code",
   "execution_count": 21,
   "metadata": {},
   "outputs": [
    {
     "data": {
      "text/plain": [
       "0     5.0\n",
       "1     1.0\n",
       "2     2.0\n",
       "3     3.0\n",
       "4     8.0\n",
       "5     6.0\n",
       "6     9.0\n",
       "7    10.0\n",
       "8     4.0\n",
       "9     7.0\n",
       "dtype: float64"
      ]
     },
     "execution_count": 21,
     "metadata": {},
     "output_type": "execute_result"
    }
   ],
   "source": [
    "pd.Series(lgbm.feature_importances_, index = ranking.index).rank(ascending = False)"
   ]
  },
  {
   "cell_type": "markdown",
   "metadata": {},
   "source": [
    "# mRMR  \n",
    "\n",
    "* https://github.com/smazzanti/mrmr\n",
    "\n",
    "\n",
    "<code>\n",
    "Args:\n",
    "        X: (pandas.DataFrame) A Dataframe consisting of numeric features only.\n",
    "        y: (pandas.Series) A Series containing the (categorical) target variable.\n",
    "        K: (int) Number of features to select.\n",
    "        relevance: (str or function) Relevance method. \n",
    "            If function, it should take X and y as input and return a pandas.Series containing a (non-negative) score of relevance for each feature of X.\n",
    "            If string, name of method, supported: 'f' (f-statistic), 'rf' (random forest).\n",
    "        redundancy: (str or function) Redundancy method. \n",
    "            If function, it should take A and b as input and return a pandas.Series containing a (non-negative) score of redundancy for each feature of A.\n",
    "            If string, name of method, supported: 'c' (Pearson correlation)\n",
    "        denominator: (str or function) Synthesis function to apply to the denominator of MRMR score.\n",
    "            If function, it should take an iterable as input and return a scalar.\n",
    "            If string, name of method, supported: 'max', 'mean'\n",
    "        cat_features: (list) List of categorical features. If None, all string columns will be encoded\n",
    "        cat_encoding: (str) Name of categorical encoding. Supported: 'leave_one_out', 'james_stein', 'target'\n",
    "        only_same_domain: (bool) If False, all the necessary correlation coefficients are computed.\n",
    "            If True, only features belonging to the same domain are compared.\n",
    "            Domain is defined by the string preceding the first underscore:\n",
    "            for instance \"cusinfo_age\" and \"cusinfo_income\" belong to the same domain,\n",
    "            whereas \"age\" and \"income\" don't.\n",
    "'''           \n",
    "</code>"
   ]
  },
  {
   "cell_type": "code",
   "execution_count": 27,
   "metadata": {},
   "outputs": [
    {
     "name": "stderr",
     "output_type": "stream",
     "text": [
      "100%|██████████| 10/10 [00:04<00:00,  2.48it/s]\n"
     ]
    }
   ],
   "source": [
    "import pandas as pd\n",
    "from mrmr import mrmr_classif\n",
    "\n",
    "mrmr = mrmr_classif(pd.DataFrame(X), pd.Series(y), relevance = 'f', redundancy = 'c', K = 784)   # f-test, pearson"
   ]
  },
  {
   "cell_type": "code",
   "execution_count": 28,
   "metadata": {},
   "outputs": [
    {
     "data": {
      "text/plain": [
       "0     1\n",
       "1     3\n",
       "2     4\n",
       "3     5\n",
       "4     2\n",
       "5     8\n",
       "6     6\n",
       "7    10\n",
       "8     9\n",
       "9     7\n",
       "dtype: int64"
      ]
     },
     "execution_count": 28,
     "metadata": {},
     "output_type": "execute_result"
    }
   ],
   "source": [
    "pd.Series(list(range(1, len(mrmr) + 1)) + [X.shape[1]] * (X.shape[1] - len(mrmr)), index = mrmr + list(set(ranking.index) - set(mrmr))).sort_index()"
   ]
  },
  {
   "cell_type": "code",
   "execution_count": 29,
   "metadata": {},
   "outputs": [
    {
     "name": "stderr",
     "output_type": "stream",
     "text": [
      "100%|██████████| 10/10 [00:04<00:00,  2.02it/s]\n"
     ]
    }
   ],
   "source": [
    "mrmr = mrmr_classif(pd.DataFrame(X), pd.Series(y), relevance = 'rf', redundancy = 'c', K = 784)   # RF, pearson"
   ]
  },
  {
   "cell_type": "code",
   "execution_count": 30,
   "metadata": {},
   "outputs": [
    {
     "data": {
      "text/plain": [
       "0     4\n",
       "1     1\n",
       "2     6\n",
       "3     7\n",
       "4     3\n",
       "5     5\n",
       "6     9\n",
       "7    10\n",
       "8     2\n",
       "9     8\n",
       "dtype: int64"
      ]
     },
     "execution_count": 30,
     "metadata": {},
     "output_type": "execute_result"
    }
   ],
   "source": [
    "pd.Series(list(range(1, len(mrmr) + 1)) + [X.shape[1]] * (X.shape[1] - len(mrmr)), index = mrmr + list(set(ranking.index) - set(mrmr))).sort_index()"
   ]
  },
  {
   "cell_type": "markdown",
   "metadata": {},
   "source": [
    "# PyMRMR\n",
    "\n",
    "* https://github.com/fbrundu/pymrmr\n",
    "  * MIQ, MID\n"
   ]
  },
  {
   "cell_type": "code",
   "execution_count": null,
   "metadata": {},
   "outputs": [],
   "source": [
    "import pymrmr\n",
    "\n",
    "pymrmr.mRMR(df, 'MIQ', 10)"
   ]
  }
 ],
 "metadata": {
  "kernelspec": {
   "display_name": "Python (ai)",
   "language": "python",
   "name": "ai"
  },
  "language_info": {
   "codemirror_mode": {
    "name": "ipython",
    "version": 3
   },
   "file_extension": ".py",
   "mimetype": "text/x-python",
   "name": "python",
   "nbconvert_exporter": "python",
   "pygments_lexer": "ipython3",
   "version": "3.6.12"
  },
  "toc": {
   "base_numbering": 1,
   "nav_menu": {},
   "number_sections": true,
   "sideBar": true,
   "skip_h1_title": false,
   "title_cell": "Table of Contents",
   "title_sidebar": "Contents",
   "toc_cell": false,
   "toc_position": {},
   "toc_section_display": true,
   "toc_window_display": false
  }
 },
 "nbformat": 4,
 "nbformat_minor": 4
}
